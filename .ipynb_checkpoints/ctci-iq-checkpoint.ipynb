{
 "cells": [
  {
   "cell_type": "markdown",
   "metadata": {},
   "source": [
    "# Cracking the Coding Interview – Interview Questions\n",
    "\n",
    "## Chapter 1 – Arrays and Strings\n",
    "\n",
    "### Interview Question 1.1"
   ]
  },
  {
   "cell_type": "code",
   "execution_count": 1,
   "metadata": {},
   "outputs": [
    {
     "name": "stdout",
     "output_type": "stream",
     "text": [
      "True\n",
      "False\n",
      "False\n"
     ]
    }
   ],
   "source": [
    "def isUnique(s):\n",
    "    for i in range(1,len(s)+1):\n",
    "        if(len(s)==1):\n",
    "            return True\n",
    "        if(s[0]==s[i]):\n",
    "            return False\n",
    "        elif(i==len(s)-1):\n",
    "            return isUnique(s[1:])\n",
    "        else:\n",
    "            pass\n",
    "            \n",
    "print(isUnique('abc'))\n",
    "print(isUnique('abcdd'))\n",
    "print(isUnique('abcdckl'))"
   ]
  },
  {
   "cell_type": "markdown",
   "metadata": {},
   "source": [
    "### Interview Question 1.2"
   ]
  },
  {
   "cell_type": "code",
   "execution_count": 2,
   "metadata": {},
   "outputs": [
    {
     "data": {
      "text/plain": [
       "True"
      ]
     },
     "execution_count": 2,
     "metadata": {},
     "output_type": "execute_result"
    }
   ],
   "source": [
    "# 8 min 32 sec\n",
    "def checkPerm(x,y):\n",
    "    if(len(x)!=len(y)):\n",
    "        return False\n",
    "    if(len(x)==1):\n",
    "        return True\n",
    "    for j in range(len(y)):\n",
    "        if(x[0]==y[j]):\n",
    "            return checkPerm(x[1:],(y[0:j]+y[j+1:]))\n",
    "        elif(j==len(y)-1):\n",
    "            return False\n",
    "        else:\n",
    "            pass\n",
    "        \n",
    "checkPerm('abcde','ecbda')"
   ]
  },
  {
   "cell_type": "markdown",
   "metadata": {},
   "source": [
    "### Interview Question 1.3"
   ]
  },
  {
   "cell_type": "code",
   "execution_count": 3,
   "metadata": {},
   "outputs": [
    {
     "name": "stdout",
     "output_type": "stream",
     "text": [
      "www.me.net/about%20me/tv%20shows%20i%20like\n"
     ]
    }
   ],
   "source": [
    "# 4 min 31 sec\n",
    "def URLify(s):\n",
    "    newString=''\n",
    "    for char in s:\n",
    "        if(char!=' '):\n",
    "            newString+=char\n",
    "        else:\n",
    "            newString+='%20'\n",
    "    return newString\n",
    "            \n",
    "print(URLify('www.me.net/about me/tv shows i like'))"
   ]
  },
  {
   "cell_type": "markdown",
   "metadata": {},
   "source": [
    "### Interview Question 1.4"
   ]
  },
  {
   "cell_type": "code",
   "execution_count": 13,
   "metadata": {},
   "outputs": [
    {
     "name": "stdout",
     "output_type": "stream",
     "text": [
      "False\n",
      "True\n",
      "True\n",
      "False\n"
     ]
    }
   ],
   "source": [
    "# 31 min + 4 min 21 sec testing\n",
    "def palPerm(s):\n",
    "    r=True\n",
    "    counts={}\n",
    "    for char in s:\n",
    "        if(char in counts.keys()):\n",
    "            counts[char]+=1\n",
    "        else:\n",
    "            counts[char]=1\n",
    "    if(len(s)%2==0):\n",
    "        for key in counts:\n",
    "            if(counts[key]%2!=0):\n",
    "                r=False\n",
    "                break\n",
    "    else:\n",
    "        par=2\n",
    "        for key in counts:\n",
    "            if(counts[key]%2!=0):\n",
    "                par-=1\n",
    "            else:\n",
    "                pass\n",
    "            if(par==0):\n",
    "                r=False\n",
    "                break\n",
    "    return r\n",
    "\n",
    "x1 = 'sllsklr'\n",
    "x2 = 'sllskhh'\n",
    "x3 = 'sllsrttr'\n",
    "x4 = 'sllsrtyu'\n",
    "print(palPerm(x1))\n",
    "print(palPerm(x2))\n",
    "print(palPerm(x3))\n",
    "print(palPerm(x4))"
   ]
  },
  {
   "cell_type": "markdown",
   "metadata": {},
   "source": [
    "### Interview Question 1.5"
   ]
  },
  {
   "cell_type": "code",
   "execution_count": 23,
   "metadata": {},
   "outputs": [
    {
     "name": "stdout",
     "output_type": "stream",
     "text": [
      "True\n",
      "False\n",
      "True\n",
      "True\n",
      "True\n",
      "False\n",
      "False\n"
     ]
    }
   ],
   "source": [
    "# 17 min 11 sec\n",
    "import math\n",
    "def oneAway(x,y):\n",
    "    r=True\n",
    "    if(x==y):\n",
    "        r=True\n",
    "    elif(len(x)==len(y)):\n",
    "        for i in range(len(x)):\n",
    "            if(x[i]!=y[i]):\n",
    "                x=x[0:i]+y[i]+x[i+1:]\n",
    "                if(x!=y):\n",
    "                    r=False\n",
    "                    break\n",
    "                else:\n",
    "                    break\n",
    "    elif(abs(len(x)-len(y))>1):\n",
    "        r=False\n",
    "    else:\n",
    "        if(len(x)>len(y)):\n",
    "            if(x[:-1]==y):\n",
    "                r=True\n",
    "            else:\n",
    "                for i in range(max(len(x),len(y))):\n",
    "                    if(x[i]!=y[i]):\n",
    "                        x=x[0:i]+x[i+1:]\n",
    "                        if(x!=y):\n",
    "                            r=False\n",
    "                            break\n",
    "                        else:\n",
    "                            break\n",
    "        elif(len(y)>len(x)):\n",
    "            if(y[:-1]==x):\n",
    "                r=True\n",
    "            else:\n",
    "                for i in range(max(len(x),len(y))):\n",
    "                    if(y[i]!=x[i]):\n",
    "                        y=y[0:i]+y[i+1:]\n",
    "                        if(y!=x):\n",
    "                            r=False\n",
    "                            break\n",
    "                        else:\n",
    "                            break\n",
    "    return r\n",
    "\n",
    "s1='plaf'\n",
    "s2='plar'\n",
    "s3='pear'\n",
    "s4='pears'\n",
    "s5='plars'\n",
    "print(oneAway(s1,s2))\n",
    "print(oneAway(s1,s3))\n",
    "print(oneAway(s2,s3))\n",
    "print(oneAway(s3,s4))\n",
    "print(oneAway(s4,s3))\n",
    "print(oneAway(s3,s5))\n",
    "print(oneAway(s5,s3))"
   ]
  },
  {
   "cell_type": "markdown",
   "metadata": {},
   "source": [
    "### Interview Question 1.6"
   ]
  },
  {
   "cell_type": "code",
   "execution_count": 30,
   "metadata": {},
   "outputs": [
    {
     "name": "stdout",
     "output_type": "stream",
     "text": [
      "a1b3c1d1e4\n"
     ]
    }
   ],
   "source": [
    "# 6 min 26 sec\n",
    "def stringCompression(s):\n",
    "    currCount=0\n",
    "    currChar=''\n",
    "    rString=''\n",
    "    for i in range(len(s)):\n",
    "        if(i==0):\n",
    "            currChar=s[0]\n",
    "            currCount+=1\n",
    "        elif(i!=len(s)-1):\n",
    "            if(s[i]==currChar):\n",
    "                currCount+=1\n",
    "            else:\n",
    "                rString+=currChar+str(currCount)\n",
    "                currChar=s[i]\n",
    "                currCount=1\n",
    "        else:\n",
    "            rString+=currChar+(str(currCount+1))\n",
    "    return rString\n",
    "\n",
    "print(stringCompression('abbbcdeeee'))"
   ]
  },
  {
   "cell_type": "code",
   "execution_count": null,
   "metadata": {},
   "outputs": [],
   "source": []
  }
 ],
 "metadata": {
  "kernelspec": {
   "display_name": "Python 3",
   "language": "python",
   "name": "python3"
  },
  "language_info": {
   "codemirror_mode": {
    "name": "ipython",
    "version": 3
   },
   "file_extension": ".py",
   "mimetype": "text/x-python",
   "name": "python",
   "nbconvert_exporter": "python",
   "pygments_lexer": "ipython3",
   "version": "3.7.2"
  }
 },
 "nbformat": 4,
 "nbformat_minor": 4
}
